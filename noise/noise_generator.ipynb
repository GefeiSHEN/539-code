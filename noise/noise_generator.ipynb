{
 "cells": [
  {
   "cell_type": "code",
   "execution_count": 1,
   "id": "55b797b9-7121-4a46-b588-0dade221d0b9",
   "metadata": {},
   "outputs": [],
   "source": [
    "import cv2\n",
    "import math\n",
    "import csv\n",
    "import os\n",
    "import random\n",
    "import numpy as np"
   ]
  },
  {
   "cell_type": "code",
   "execution_count": 2,
   "id": "8cea9147-b107-406e-bcbb-d6df046d029d",
   "metadata": {},
   "outputs": [],
   "source": [
    "def add_line_shadows(image, shadow_intensity=50, dash_width=10, dash_spacing=20, rotation=0):\n",
    "    h, w, c = image.shape\n",
    "\n",
    "    # Diagonal length\n",
    "    d = math.ceil((h**2 + w**2)**0.5)\n",
    "\n",
    "    # Mask is larger to accomodate the rotation\n",
    "    mask = np.zeros((d, d, c), dtype=np.uint8)\n",
    "\n",
    "    # Number of dashs on mask\n",
    "    dash_count = d // (dash_width + dash_spacing)\n",
    "\n",
    "    # Create dashes on the mask\n",
    "    for i in range(dash_count):\n",
    "        x = i * (dash_width + dash_spacing) + dash_spacing\n",
    "        cv2.rectangle(mask, (x, 0), (x + dash_width, d), (shadow_intensity, shadow_intensity, shadow_intensity), -1)\n",
    "\n",
    "    # Calculate rotation matrix using the center of the mask\n",
    "    mask_center = (d // 2, d // 2)\n",
    "    rotation_matrix = cv2.getRotationMatrix2D(mask_center, rotation, 1)\n",
    "\n",
    "    # Rotate the mask\n",
    "    rotated_mask = cv2.warpAffine(mask, rotation_matrix, (d, d))\n",
    "\n",
    "    # Crop mask\n",
    "    x_crop = (d - w) // 2\n",
    "    y_crop = (d - h) // 2\n",
    "    cropped_mask = rotated_mask[y_crop:y_crop + h, x_crop:x_crop + w]\n",
    "\n",
    "    # Apply cropped mask\n",
    "    shadowed_image = cv2.subtract(image, cropped_mask)\n",
    "\n",
    "    return shadowed_image"
   ]
  },
  {
   "cell_type": "code",
   "execution_count": null,
   "id": "59656dcf-5791-4980-a147-e2dbe299c209",
   "metadata": {},
   "outputs": [],
   "source": [
    "image = cv2.imread('Aaron_Eckhart_1.jpg')\n",
    "print(image.shape)\n",
    "cv2.imshow('shadowed img',add_line_shadows(image, dash_width=5, rotation=30))\n",
    "cv2.waitKey(0)\n",
    "cv2.destroyAllWindows()"
   ]
  },
  {
   "cell_type": "code",
   "execution_count": 7,
   "id": "ceaa763f-c768-4274-a1a3-552b84d7f908",
   "metadata": {},
   "outputs": [],
   "source": [
    "def random_parameters():\n",
    "    return random.randint(30, 100), random.randint(5, 20), random.randint(10, 30)"
   ]
  },
  {
   "cell_type": "code",
   "execution_count": 8,
   "id": "655dbf23-7231-43b8-b27d-fde9e7e8442d",
   "metadata": {},
   "outputs": [],
   "source": [
    "def apply_shadows_and_write_csv(image_path, save_dir, csv_writer):\n",
    "    # Load image\n",
    "    image = cv2.imread(image_path)\n",
    "    base_name = os.path.splitext(os.path.basename(image_path))[0]\n",
    "\n",
    "    # Original image (no shadow)\n",
    "    cv2.imwrite(os.path.join(save_dir, f\"{base_name}_raw.jpg\"), image)\n",
    "    csv_writer.writerow([f\"{base_name}_raw.jpg\", 0, 0, 0, 0, 1])\n",
    "\n",
    "    # Shadowed images with random parameters\n",
    "    for suffix, rotation in [('_vertical', 0), ('_30', 30), ('_cross', 90)]:\n",
    "        shadow_intensity, dash_width, dash_spacing = random_parameters()\n",
    "        shadowed_image = add_line_shadows(image, shadow_intensity, dash_width, dash_spacing, rotation)\n",
    "        if suffix == '_cross':\n",
    "            shadowed_image = add_line_shadows(shadowed_image, *random_parameters(), rotation=0)\n",
    "\n",
    "        file_name = f\"{base_name}{suffix}.jpg\"\n",
    "        cv2.imwrite(os.path.join(save_dir, file_name), shadowed_image)\n",
    "        csv_writer.writerow([file_name, shadow_intensity, dash_width, dash_spacing, rotation, 0])"
   ]
  },
  {
   "cell_type": "code",
   "execution_count": 10,
   "id": "7b7291c5-899a-4cb5-bcf1-8232c1c6cad9",
   "metadata": {},
   "outputs": [],
   "source": [
    "# Directory paths\n",
    "source_dir = '../benchmark/dataset/cplfw/aligned images/'\n",
    "save_dir = '../benchmark/dataset/cplfw_noised/aligned_images/'\n",
    "csv_file = '../benchmark/dataset/cplfw_noised/specs.csv'\n",
    "\n",
    "random.seed(10)\n",
    "\n",
    "if not os.path.exists(save_dir):\n",
    "    os.makedirs(save_dir)\n",
    "\n",
    "# Open CSV file and write headers\n",
    "with open(csv_file, mode='w', newline='') as file:\n",
    "    csv_writer = csv.writer(file)\n",
    "    csv_writer.writerow(['image_name', 'shadow_intensity', 'dash_width', 'dash_spacing', 'rotation', 'original'])\n",
    "\n",
    "    # Process each image in the source directory\n",
    "    for file_name in os.listdir(source_dir):\n",
    "        if file_name.endswith('.jpg'):\n",
    "            image_path = os.path.join(source_dir, file_name)\n",
    "            apply_shadows_and_write_csv(image_path, save_dir, csv_writer)"
   ]
  },
  {
   "cell_type": "code",
   "execution_count": null,
   "id": "fd74c340-1322-4406-9ec7-055adb406f9c",
   "metadata": {},
   "outputs": [],
   "source": []
  }
 ],
 "metadata": {
  "kernelspec": {
   "display_name": "Python 3 (ipykernel)",
   "language": "python",
   "name": "python3"
  },
  "language_info": {
   "codemirror_mode": {
    "name": "ipython",
    "version": 3
   },
   "file_extension": ".py",
   "mimetype": "text/x-python",
   "name": "python",
   "nbconvert_exporter": "python",
   "pygments_lexer": "ipython3",
   "version": "3.8.18"
  }
 },
 "nbformat": 4,
 "nbformat_minor": 5
}
