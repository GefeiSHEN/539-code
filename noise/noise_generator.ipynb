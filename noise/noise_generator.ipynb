{
 "cells": [
  {
   "cell_type": "code",
   "execution_count": 1,
   "id": "55b797b9-7121-4a46-b588-0dade221d0b9",
   "metadata": {},
   "outputs": [],
   "source": [
    "import cv2\n",
    "import numpy as np"
   ]
  },
  {
   "cell_type": "code",
   "execution_count": null,
   "id": "8cea9147-b107-406e-bcbb-d6df046d029d",
   "metadata": {},
   "outputs": [],
   "source": [
    "##TODO: Add rotation logic\n",
    "def add_line_shadows(image, shadow_intensity=50, dash_width=10, dash_spacing=20, offset=0, rotation = 0):\n",
    "    mask = np.zeros(image.shape, dtype=np.uint8)\n",
    "\n",
    "    h,w,_ = image.shape\n",
    "    \n",
    "    dash_count = w // (dash_width + dash_spacing)\n",
    "\n",
    "    for i in range(dash_count):\n",
    "        x = (i-1)*(dash_width+dash_spacing)+dash_spacing\n",
    "        cv2.rectangle(mask, (x, 0), (x + dash_width, h), (shadow_intensity, shadow_intensity, shadow_intensity), -1)\n",
    "\n",
    "    shadowed_image = cv2.subtract(image, mask)\n",
    "\n",
    "    return shadowed_image"
   ]
  },
  {
   "cell_type": "code",
   "execution_count": null,
   "id": "59656dcf-5791-4980-a147-e2dbe299c209",
   "metadata": {},
   "outputs": [],
   "source": [
    "image = cv2.imread('main_figure.png')\n",
    "cv2.imshow('1',add_line_shadows(image))\n",
    "cv2.waitKey(0)\n",
    "cv2.destroyAllWindows()"
   ]
  },
  {
   "cell_type": "code",
   "execution_count": null,
   "id": "655dbf23-7231-43b8-b27d-fde9e7e8442d",
   "metadata": {},
   "outputs": [],
   "source": []
  }
 ],
 "metadata": {
  "kernelspec": {
   "display_name": "Python 3 (ipykernel)",
   "language": "python",
   "name": "python3"
  },
  "language_info": {
   "codemirror_mode": {
    "name": "ipython",
    "version": 3
   },
   "file_extension": ".py",
   "mimetype": "text/x-python",
   "name": "python",
   "nbconvert_exporter": "python",
   "pygments_lexer": "ipython3",
   "version": "3.8.18"
  }
 },
 "nbformat": 4,
 "nbformat_minor": 5
}
