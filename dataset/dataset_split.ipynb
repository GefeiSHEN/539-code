{
 "cells": [
  {
   "cell_type": "code",
   "execution_count": 6,
   "id": "adaa545b-23bf-4122-96b9-9ce5da964d49",
   "metadata": {},
   "outputs": [],
   "source": [
    "import os\n",
    "import shutil\n",
    "import numpy as np\n",
    "from sklearn.model_selection import train_test_split"
   ]
  },
  {
   "cell_type": "code",
   "execution_count": 14,
   "id": "ce918d04-b988-4a6e-ad10-a5ecbf0b6bd8",
   "metadata": {},
   "outputs": [],
   "source": [
    "image_dir = '../benchmark/dataset/cplfw_noised/aligned_images/'\n",
    "output_dir = '../benchmark/dataset/cplfw_noised/adaface_images/'\n",
    "\n",
    "# Extract people names\n",
    "people = set()\n",
    "for filename in os.listdir(image_dir):\n",
    "    if filename.endswith('.jpg'):\n",
    "        person = '_'.join(filename.split('_')[:2])\n",
    "        people.add(person)"
   ]
  },
  {
   "cell_type": "code",
   "execution_count": 9,
   "id": "fbf75828-5f8c-44bd-bb87-6760a0846298",
   "metadata": {},
   "outputs": [],
   "source": [
    "people = np.array(list(people))\n",
    "train_people, temp_people = train_test_split(people, test_size=0.4, random_state=42)\n",
    "val_people, test_people = train_test_split(temp_people, test_size=0.5, random_state=42)"
   ]
  },
  {
   "cell_type": "code",
   "execution_count": 19,
   "id": "fd27764b-e8e0-4de9-804d-a7e9169bba17",
   "metadata": {},
   "outputs": [],
   "source": [
    "def organize_images(people, dir_name):\n",
    "    folder_dir = os.path.join(output_dir, dir_name)\n",
    "    os.makedirs(folder_dir, exist_ok=True)\n",
    "    for person in people:\n",
    "        person_dir = os.path.join(folder_dir, person)\n",
    "        os.makedirs(person_dir, exist_ok=True)\n",
    "        for filename in os.listdir(image_dir):\n",
    "            if filename.startswith(person):\n",
    "                shutil.copy(os.path.join(image_dir, filename), person_dir)"
   ]
  },
  {
   "cell_type": "code",
   "execution_count": 20,
   "id": "f69b2154-05aa-4542-a9f1-f7b578843af8",
   "metadata": {},
   "outputs": [],
   "source": [
    "# Organize images\n",
    "organize_images(train_people, 'train')\n",
    "organize_images(val_people, 'val')\n",
    "organize_images(test_people, 'test')"
   ]
  },
  {
   "cell_type": "code",
   "execution_count": 1,
   "id": "4bd323ce-9aab-487e-8c29-a634f7576d20",
   "metadata": {},
   "outputs": [],
   "source": [
    "import mxnet as mx"
   ]
  },
  {
   "cell_type": "code",
   "execution_count": 2,
   "id": "ce609a57-e062-4df1-b12f-b277bf98a917",
   "metadata": {},
   "outputs": [
    {
     "name": "stdout",
     "output_type": "stream",
     "text": [
      "1.24.4\n"
     ]
    }
   ],
   "source": [
    "import numpy as np\n",
    "print(np.__version__)"
   ]
  },
  {
   "cell_type": "code",
   "execution_count": null,
   "id": "cd456806-f112-441c-9d35-004b0b90896c",
   "metadata": {},
   "outputs": [],
   "source": []
  }
 ],
 "metadata": {
  "kernelspec": {
   "display_name": "Python 3 (ipykernel)",
   "language": "python",
   "name": "python3"
  },
  "language_info": {
   "codemirror_mode": {
    "name": "ipython",
    "version": 3
   },
   "file_extension": ".py",
   "mimetype": "text/x-python",
   "name": "python",
   "nbconvert_exporter": "python",
   "pygments_lexer": "ipython3",
   "version": "3.8.18"
  }
 },
 "nbformat": 4,
 "nbformat_minor": 5
}
