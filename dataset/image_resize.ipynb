{
 "cells": [
  {
   "cell_type": "code",
   "execution_count": 4,
   "id": "16c66921-691d-496f-a158-7b8b938422de",
   "metadata": {},
   "outputs": [],
   "source": [
    "import cv2\n",
    "import os"
   ]
  },
  {
   "cell_type": "code",
   "execution_count": 5,
   "id": "d2f9f040-3fca-4470-a9c9-9e34ff35b8db",
   "metadata": {},
   "outputs": [],
   "source": [
    "image_dir = '../data/dogFace/'\n",
    "output_dir = '../data/dogFace_112/'"
   ]
  },
  {
   "cell_type": "code",
   "execution_count": 6,
   "id": "c3973684-53ba-49ad-a94c-304757e06199",
   "metadata": {},
   "outputs": [],
   "source": [
    "def scale_images(folder, factor=0.5):\n",
    "    input_base_dir = os.path.join(image_dir, folder)\n",
    "    output_base_dir = os.path.join(output_dir, folder)\n",
    "\n",
    "    for subdir, _, _ in os.walk(input_base_dir):\n",
    "        rel_path = os.path.relpath(subdir, input_base_dir)\n",
    "        output_subdir = os.path.join(output_base_dir, rel_path)\n",
    "\n",
    "        if not os.path.exists(output_subdir):\n",
    "            os.makedirs(output_subdir)\n",
    "\n",
    "        for filename in os.listdir(subdir):\n",
    "            file_path = os.path.join(subdir, filename)\n",
    "            if os.path.isfile(file_path) and filename.endswith('.jpg'):\n",
    "                img = cv2.imread(file_path)\n",
    "                new_img = cv2.resize(img, None, fx=factor, fy=factor)\n",
    "                output_filename = os.path.join(output_subdir, filename)\n",
    "                cv2.imwrite(output_filename, new_img)"
   ]
  },
  {
   "cell_type": "code",
   "execution_count": 7,
   "id": "e6078c47-42b2-4ab9-bc6a-4988aed2ec01",
   "metadata": {},
   "outputs": [],
   "source": [
    "scale_images('train')"
   ]
  },
  {
   "cell_type": "code",
   "execution_count": null,
   "id": "6d7e1509-eaa2-4c94-8576-b43a62b6b9d1",
   "metadata": {},
   "outputs": [],
   "source": []
  }
 ],
 "metadata": {
  "kernelspec": {
   "display_name": "Python 3 (ipykernel)",
   "language": "python",
   "name": "python3"
  },
  "language_info": {
   "codemirror_mode": {
    "name": "ipython",
    "version": 3
   },
   "file_extension": ".py",
   "mimetype": "text/x-python",
   "name": "python",
   "nbconvert_exporter": "python",
   "pygments_lexer": "ipython3",
   "version": "3.8.18"
  }
 },
 "nbformat": 4,
 "nbformat_minor": 5
}
