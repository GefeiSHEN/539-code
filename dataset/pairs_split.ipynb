{
 "cells": [
  {
   "cell_type": "code",
   "execution_count": 1,
   "id": "29a51c65-11af-44ef-8204-6df2f7798ea8",
   "metadata": {},
   "outputs": [],
   "source": [
    "import os\n",
    "import random\n",
    "import numpy as np\n",
    "from sklearn.model_selection import train_test_split"
   ]
  },
  {
   "cell_type": "code",
   "execution_count": 3,
   "id": "38f83fe8-f043-42dc-9afd-b5e05e52cc39",
   "metadata": {},
   "outputs": [
    {
     "name": "stdout",
     "output_type": "stream",
     "text": [
      "True\n"
     ]
    }
   ],
   "source": [
    "# 6/2/2 split\n",
    "pairs_dir = '../benchmark/dataset/cplfw_noised/pairs_CPLFW_noised.txt'\n",
    "pairs_split_dir = '../benchmark/dataset/cplfw_noised/'\n",
    "\n",
    "with open(pairs_dir, 'r') as f:\n",
    "    lines = f.readlines()\n",
    "\n",
    "pairs = []\n",
    "labels = []\n",
    "for i in range(0, len(lines), 2):\n",
    "    pairs.append(lines[i: i+2])\n",
    "    labels.append(lines[i].split()[-1])\n",
    "\n",
    "print(len(pairs) == len(labels))\n",
    "\n",
    "train_pairs, temp_pairs, train_labels, temp_labels = train_test_split(pairs, labels, test_size=0.4, stratify=labels, random_state=42)\n",
    "val_pairs, test_pairs, _, _ = train_test_split(temp_pairs, temp_labels, test_size=0.5, stratify=temp_labels, random_state=42)"
   ]
  },
  {
   "cell_type": "code",
   "execution_count": null,
   "id": "e2b1aad2-dbfd-4c1e-adae-36edbe4edc9e",
   "metadata": {},
   "outputs": [],
   "source": [
    "def write_pairs_to_file(pairs, file_path):\n",
    "    with open(file_path, 'w') as f:\n",
    "        for pair in pairs:\n",
    "            f.writelines(pair)"
   ]
  },
  {
   "cell_type": "code",
   "execution_count": null,
   "id": "006f8529-4e60-41bb-89bb-378bf17baab0",
   "metadata": {},
   "outputs": [],
   "source": [
    "write_pairs_to_file(train_pairs, pairs_split_dir + 'pairs_train.txt')\n",
    "write_pairs_to_file(val_pairs, pairs_split_dir + 'pairs_val.txt')\n",
    "write_pairs_to_file(test_pairs, pairs_split_dir + 'pairs_test.txt')"
   ]
  }
 ],
 "metadata": {
  "kernelspec": {
   "display_name": "Python 3 (ipykernel)",
   "language": "python",
   "name": "python3"
  },
  "language_info": {
   "codemirror_mode": {
    "name": "ipython",
    "version": 3
   },
   "file_extension": ".py",
   "mimetype": "text/x-python",
   "name": "python",
   "nbconvert_exporter": "python",
   "pygments_lexer": "ipython3",
   "version": "3.8.18"
  }
 },
 "nbformat": 4,
 "nbformat_minor": 5
}
