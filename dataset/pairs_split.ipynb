{
 "cells": [
  {
   "cell_type": "code",
   "execution_count": 2,
   "id": "29a51c65-11af-44ef-8204-6df2f7798ea8",
   "metadata": {},
   "outputs": [],
   "source": [
    "import os\n",
    "import random\n",
    "import numpy as np\n",
    "from sklearn.model_selection import train_test_split"
   ]
  },
  {
   "cell_type": "code",
   "execution_count": 20,
   "id": "38f83fe8-f043-42dc-9afd-b5e05e52cc39",
   "metadata": {},
   "outputs": [],
   "source": [
    "# To generate for train/val/test, modify the last path of image_dir and the write_paris_to_file's parameter\n",
    "pairs_dir = '../benchmark/dataset/cplfw_noised/pairs_CPLFW_noised.txt'\n",
    "pairs_split_dir = '../benchmark/dataset/cplfw_noised/'\n",
    "image_dir = '../benchmark/dataset/cplfw_noised/adaface_images_112/val/'\n",
    "\n",
    "with open(pairs_dir, 'r') as f:\n",
    "    lines = f.readlines()\n",
    "\n",
    "filepaths = os.listdir(image_dir)\n",
    "\n",
    "files = []\n",
    "\n",
    "for path in filepaths:\n",
    "    files.extend(os.listdir(image_dir+path))\n",
    "\n",
    "pairs = []\n",
    "labels = []\n",
    "for i in range(0, len(lines), 2):\n",
    "    pairs.append(lines[i: i+2])\n",
    "    labels.append(lines[i].split()[-1])\n",
    "\n",
    "newpairs = []\n",
    "\n",
    "for i in range(len(pairs)):\n",
    "    name1 = pairs[i][0].split()[0]\n",
    "    name2 = pairs[i][1].split()[0]\n",
    "    if name1 in files and name2 in files:\n",
    "        newpairs.append(pairs[i])"
   ]
  },
  {
   "cell_type": "code",
   "execution_count": 21,
   "id": "e2b1aad2-dbfd-4c1e-adae-36edbe4edc9e",
   "metadata": {},
   "outputs": [],
   "source": [
    "def write_pairs_to_file(pairs, file_path):\n",
    "    with open(file_path, 'w') as f:\n",
    "        for pair in pairs:\n",
    "            f.writelines(pair)"
   ]
  },
  {
   "cell_type": "code",
   "execution_count": 22,
   "id": "006f8529-4e60-41bb-89bb-378bf17baab0",
   "metadata": {},
   "outputs": [],
   "source": [
    "# write_pairs_to_file(train_pairs, pairs_split_dir + 'pairs_train.txt')\n",
    "# write_pairs_to_file(val_pairs, pairs_split_dir + 'pairs_val.txt')\n",
    "# write_pairs_to_file(test_pairs, pairs_split_dir + 'pairs_test.txt')\n",
    "\n",
    "write_pairs_to_file(newpairs, pairs_split_dir + 'pairs_val.txt')"
   ]
  },
  {
   "cell_type": "code",
   "execution_count": null,
   "id": "adc53d58-3de9-44a5-8bc3-8b4a9c86147e",
   "metadata": {},
   "outputs": [],
   "source": []
  }
 ],
 "metadata": {
  "kernelspec": {
   "display_name": "Python 3 (ipykernel)",
   "language": "python",
   "name": "python3"
  },
  "language_info": {
   "codemirror_mode": {
    "name": "ipython",
    "version": 3
   },
   "file_extension": ".py",
   "mimetype": "text/x-python",
   "name": "python",
   "nbconvert_exporter": "python",
   "pygments_lexer": "ipython3",
   "version": "3.8.18"
  }
 },
 "nbformat": 4,
 "nbformat_minor": 5
}
