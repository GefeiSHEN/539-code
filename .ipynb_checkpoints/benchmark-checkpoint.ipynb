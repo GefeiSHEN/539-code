{
 "cells": [
  {
   "cell_type": "code",
   "execution_count": 32,
   "id": "9b73cb6c-9e01-43d7-9359-5ce60d7c49b2",
   "metadata": {},
   "outputs": [],
   "source": [
    "import numpy as np\n",
    "import torch\n",
    "from sklearn.metrics import accuracy_score, confusion_matrix\n",
    "from PIL import Image\n",
    "import os\n",
    "import net\n",
    "from face_alignment import align\n",
    "from IPython.display import display, clear_output"
   ]
  },
  {
   "cell_type": "code",
   "execution_count": 2,
   "id": "91a1ef47",
   "metadata": {},
   "outputs": [],
   "source": [
    "def load_pretrained_model(architecture='ir_101'):\n",
    "    # load model and pretrained statedict\n",
    "    assert architecture in model_name.keys()\n",
    "    model = net.build_model(architecture)\n",
    "    statedict = torch.load(model_name[architecture])['state_dict']\n",
    "    model_statedict = {key[6:]:val for key, val in statedict.items() if key.startswith('model.')}\n",
    "    model.load_state_dict(model_statedict)\n",
    "    model.eval()\n",
    "    return model"
   ]
  },
  {
   "cell_type": "code",
   "execution_count": 3,
   "id": "05e0e71f-223f-41fc-b654-198abd33cd8b",
   "metadata": {},
   "outputs": [],
   "source": [
    "def to_input(pil_rgb_image):\n",
    "    np_img = np.array(pil_rgb_image)\n",
    "    brg_img = ((np_img[:,:,::-1] / 255.) - 0.5) / 0.5\n",
    "    tensor = torch.tensor([brg_img.transpose(2,0,1)]).float()\n",
    "    return tensor"
   ]
  },
  {
   "cell_type": "code",
   "execution_count": 4,
   "id": "f3c69155",
   "metadata": {},
   "outputs": [],
   "source": [
    "model_name = {\n",
    "    'ir_101':\"pretrained/adaface_ir101_ms1mv2.ckpt\",\n",
    "}\n",
    "\n",
    "model = load_pretrained_model()"
   ]
  },
  {
   "cell_type": "code",
   "execution_count": 5,
   "id": "8397bbf2-d496-404d-8a6d-cbe26880078a",
   "metadata": {},
   "outputs": [],
   "source": [
    "X = []\n",
    "y = []\n",
    "with open('./benchmark/dataset/cplfw/pairs_CPLFW.txt','r') as f:\n",
    "    lines = f.readlines()\n",
    "    for i in range(0, len(lines), 2):\n",
    "        img1, label1 = lines[i].strip().split()\n",
    "        img2, label2 = lines[i+1].strip().split()\n",
    "        img1 = \"./benchmark/dataset/cplfw/aligned images/\"+img1\n",
    "        img2 = \"./benchmark/dataset/cplfw/aligned images/\"+img2\n",
    "        X.append((img1, img2))\n",
    "        y.append(label1 == '1')\n",
    "\n",
    "X = np.array(X)\n",
    "y = np.array(y, dtype=bool)"
   ]
  },
  {
   "cell_type": "code",
   "execution_count": 6,
   "id": "7b3db5aa-edad-4488-b46b-15d27e372bff",
   "metadata": {},
   "outputs": [
    {
     "data": {
      "text/plain": [
       "((6000, 2), (6000,))"
      ]
     },
     "execution_count": 6,
     "metadata": {},
     "output_type": "execute_result"
    }
   ],
   "source": [
    "X.shape, y.shape"
   ]
  },
  {
   "cell_type": "code",
   "execution_count": 26,
   "id": "7b20bc60-b785-450a-9e49-73c5fc870ee0",
   "metadata": {},
   "outputs": [],
   "source": [
    "def distance(img1, img2, model, aligned=True):\n",
    "    if aligned:\n",
    "        aligned_face_img1 = Image.open(img1).resize((112, 112))\n",
    "        aligned_face_img2 = Image.open(img2).resize((112, 112))\n",
    "    else:\n",
    "        aligned_face_img1 = align.get_aligned_face(img1)\n",
    "        aligned_face_img2 = align.get_aligned_face(img2)\n",
    "    \n",
    "    if aligned_face_img1 is None or aligned_face_img2 is None:\n",
    "        print(\"Aligned face not found in one or both images.\")\n",
    "        return None\n",
    "\n",
    "    # Prepare input tensors\n",
    "    tensor_img1 = to_input(aligned_face_img1)\n",
    "    tensor_img2 = to_input(aligned_face_img2)\n",
    "    \n",
    "    # Get features\n",
    "    feature_img1, _ = model(tensor_img1)\n",
    "    feature_img2, _ = model(tensor_img2)\n",
    "    \n",
    "    # Compute similarity\n",
    "    cos_sim = torch.nn.functional.cosine_similarity(feature_img1, feature_img2)\n",
    "    similarity_score = cos_sim.item()\n",
    "    \n",
    "    return similarity_score"
   ]
  },
  {
   "cell_type": "code",
   "execution_count": 27,
   "id": "e0d2f29e-9165-4de2-951f-6a8cb42363ed",
   "metadata": {},
   "outputs": [
    {
     "name": "stderr",
     "output_type": "stream",
     "text": [
      "/home/gefei/Developer/ML/AdaFace/face_alignment/mtcnn_pytorch/src/matlab_cp2tform.py:90: FutureWarning: `rcond` parameter will change to the default of machine precision times ``max(M, N)`` where M and N are the input matrix dimensions.\n",
      "To use the future default and silence this warning we advise to pass `rcond=None`, to keep using the old, explicitly pass `rcond=-1`.\n",
      "  r, _, _, _ = lstsq(X, U)\n"
     ]
    },
    {
     "data": {
      "text/plain": [
       "0.6874513626098633"
      ]
     },
     "execution_count": 27,
     "metadata": {},
     "output_type": "execute_result"
    }
   ],
   "source": [
    "distance(X[11,0],X[11,1], model)\n",
    "distance(X[11,0],X[11,1], model, aligned=False)"
   ]
  },
  {
   "cell_type": "code",
   "execution_count": 28,
   "id": "3d9d4ae2-b098-4094-a2fe-687917b713bd",
   "metadata": {},
   "outputs": [
    {
     "data": {
      "text/plain": [
       "array(['./benchmark/dataset/cplfw/aligned images/Tom_Vilsack_2.jpg',\n",
       "       './benchmark/dataset/cplfw/aligned images/Tom_Vilsack_3.jpg'],\n",
       "      dtype='<U79')"
      ]
     },
     "execution_count": 28,
     "metadata": {},
     "output_type": "execute_result"
    }
   ],
   "source": [
    "X[11]"
   ]
  },
  {
   "cell_type": "code",
   "execution_count": 33,
   "id": "2b429a09-d618-43ad-9db9-2264969f532e",
   "metadata": {},
   "outputs": [
    {
     "data": {
      "text/plain": [
       "5999"
      ]
     },
     "metadata": {},
     "output_type": "display_data"
    }
   ],
   "source": [
    "threshold = 0.4\n",
    "\n",
    "y_hat = []\n",
    "\n",
    "for i in range(len(X)):\n",
    "    clear_output(wait=True)\n",
    "    display(i)\n",
    "    dist = distance(X[i,0],X[i,1], model)\n",
    "    if dist is None or dist < threshold:\n",
    "        y_hat.append(False)\n",
    "    else:\n",
    "        y_hat.append(True)\n",
    "\n",
    "y_hat = np.array(y_hat)"
   ]
  },
  {
   "cell_type": "code",
   "execution_count": 34,
   "id": "86f9ee87-9cf4-4e5e-8aa8-c7b4d9a9232a",
   "metadata": {},
   "outputs": [
    {
     "data": {
      "text/plain": [
       "0.5481666666666667"
      ]
     },
     "execution_count": 34,
     "metadata": {},
     "output_type": "execute_result"
    }
   ],
   "source": [
    "accuracy_score(y_hat,y)"
   ]
  },
  {
   "cell_type": "code",
   "execution_count": null,
   "id": "40244518-f2b0-4f7e-babf-544614e8956d",
   "metadata": {},
   "outputs": [],
   "source": []
  }
 ],
 "metadata": {
  "kernelspec": {
   "display_name": "Python 3 (ipykernel)",
   "language": "python",
   "name": "python3"
  },
  "language_info": {
   "codemirror_mode": {
    "name": "ipython",
    "version": 3
   },
   "file_extension": ".py",
   "mimetype": "text/x-python",
   "name": "python",
   "nbconvert_exporter": "python",
   "pygments_lexer": "ipython3",
   "version": "3.8.18"
  }
 },
 "nbformat": 4,
 "nbformat_minor": 5
}
