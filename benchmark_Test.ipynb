{
 "cells": [
  {
   "cell_type": "code",
   "execution_count": 30,
   "id": "739885fc-174d-456c-8252-08b2fc36a15e",
   "metadata": {},
   "outputs": [],
   "source": [
    "import numpy as np\n",
    "import torch\n",
    "from sklearn.metrics import accuracy_score\n",
    "from PIL import Image\n",
    "import os\n",
    "import net\n",
    "from face_alignment import align\n",
    "from IPython.display import display, clear_output\n",
    "import time"
   ]
  },
  {
   "cell_type": "code",
   "execution_count": 31,
   "id": "3fc5b2c0-d076-440c-9440-1064dff45bc2",
   "metadata": {},
   "outputs": [],
   "source": [
    "#This line of code sets device to GPU running the if there is one present.\n",
    "device = torch.device(\"cuda\" if torch.cuda.is_available() else \"cpu\")"
   ]
  },
  {
   "cell_type": "code",
   "execution_count": 32,
   "id": "00eacf3d-e0ca-41dc-b6f1-f967b1935a84",
   "metadata": {},
   "outputs": [],
   "source": [
    "def load_pretrained_model(architecture='ir_101'):\n",
    "    # load model and pretrained statedict\n",
    "    assert architecture in model_name.keys()\n",
    "    model = net.build_model(architecture)\n",
    "    statedict = torch.load(model_name[architecture], map_location=device)['state_dict']\n",
    "    model_statedict = {key[6:]: val for key, val in statedict.items() if key.startswith('model.')}\n",
    "    model.load_state_dict(model_statedict)\n",
    "    model.eval()\n",
    "    return model.to(device)"
   ]
  },
  {
   "cell_type": "code",
   "execution_count": 33,
   "id": "23401a11-a0a0-47fc-8a4a-f4655d40b1ca",
   "metadata": {},
   "outputs": [],
   "source": [
    "def to_input(pil_rgb_image):\n",
    "    np_img = np.array(pil_rgb_image)\n",
    "    brg_img = ((np_img[:,:,::-1] / 255.) - 0.5) / 0.5\n",
    "    tensor = torch.tensor([brg_img.transpose(2, 0, 1)]).float()\n",
    "    return tensor.to(device)"
   ]
  },
  {
   "cell_type": "code",
   "execution_count": 34,
   "id": "6d3c16e6-a7be-412e-8cfc-154eabb8cd45",
   "metadata": {},
   "outputs": [],
   "source": [
    "model_name = {\n",
    "    'ir_101':\"pretrained/adaface_ir101_ms1mv2.ckpt\",\n",
    "}\n",
    "\n",
    "model = load_pretrained_model()"
   ]
  },
  {
   "cell_type": "code",
   "execution_count": 35,
   "id": "f8586d39-0bbf-4f15-8ac6-b5491d15f00e",
   "metadata": {},
   "outputs": [],
   "source": [
    "X = []\n",
    "y = []\n",
    "with open('./benchmark/dataset/cplfw/pairs_CPLFW.txt','r') as f:\n",
    "    lines = f.readlines()\n",
    "    for i in range(0, len(lines), 2):\n",
    "        img1, label1 = lines[i].strip().split()\n",
    "        img2, label2 = lines[i+1].strip().split()\n",
    "        img1 = \"./benchmark/dataset/cplfw/aligned images/\"+img1\n",
    "        img2 = \"./benchmark/dataset/cplfw/aligned images/\"+img2\n",
    "        X.append((img1, img2))\n",
    "        y.append(label1 == '1')\n",
    "\n",
    "X = np.array(X)\n",
    "y = np.array(y, dtype=bool)"
   ]
  },
  {
   "cell_type": "code",
   "execution_count": 36,
   "id": "a7322af4-2f65-474e-86ac-e52e303facb9",
   "metadata": {},
   "outputs": [
    {
     "data": {
      "text/plain": [
       "((6000, 2), (6000,))"
      ]
     },
     "execution_count": 36,
     "metadata": {},
     "output_type": "execute_result"
    }
   ],
   "source": [
    "X.shape, y.shape"
   ]
  },
  {
   "cell_type": "code",
   "execution_count": 37,
   "id": "9ed61fe6-2ee5-4dcd-925f-e43fd32ca937",
   "metadata": {},
   "outputs": [],
   "source": [
    "def distance(img1, img2, model, aligned=True):\n",
    "    if aligned:\n",
    "        aligned_face_img1 = Image.open(img1).resize((112, 112))\n",
    "        aligned_face_img2 = Image.open(img2).resize((112, 112))\n",
    "    else:\n",
    "        aligned_face_img1 = align.get_aligned_face(img1)\n",
    "        aligned_face_img2 = align.get_aligned_face(img2)\n",
    "    \n",
    "    if aligned_face_img1 is None or aligned_face_img2 is None:\n",
    "        print(\"Aligned face not found in one or both images.\")\n",
    "        return None\n",
    "\n",
    "    # Prepare input tensors\n",
    "    tensor_img1 = to_input(aligned_face_img1)\n",
    "    tensor_img2 = to_input(aligned_face_img2)\n",
    "    \n",
    "    # Get features\n",
    "    feature_img1, _ = model(tensor_img1)\n",
    "    feature_img2, _ = model(tensor_img2)\n",
    "    \n",
    "    # Compute similarity\n",
    "    cos_sim = torch.nn.functional.cosine_similarity(feature_img1, feature_img2)\n",
    "    similarity_score = cos_sim.item()\n",
    "    \n",
    "    return similarity_score"
   ]
  },
  {
   "cell_type": "code",
   "execution_count": 38,
   "id": "4493ba21-5095-470e-a818-5e38e7c59f48",
   "metadata": {},
   "outputs": [
    {
     "data": {
      "text/plain": [
       "0.048394862562417984"
      ]
     },
     "execution_count": 38,
     "metadata": {},
     "output_type": "execute_result"
    }
   ],
   "source": [
    "start_time = time.time()\n",
    "distance(X[11,0],X[11,1], model)\n",
    "distance(X[5998,0],X[5998,1], model, aligned=False)"
   ]
  },
  {
   "cell_type": "code",
   "execution_count": 39,
   "id": "5f28bf23-0377-4474-8cc5-b5d94d11d186",
   "metadata": {},
   "outputs": [
    {
     "data": {
      "text/plain": [
       "5999"
      ]
     },
     "metadata": {},
     "output_type": "display_data"
    },
    {
     "name": "stdout",
     "output_type": "stream",
     "text": [
      "Total execution time: 260.75811195373535 seconds\n"
     ]
    },
    {
     "data": {
      "text/plain": [
       "0.6455"
      ]
     },
     "execution_count": 39,
     "metadata": {},
     "output_type": "execute_result"
    }
   ],
   "source": [
    "threshold = 0.17\n",
    "\n",
    "y_hat = []\n",
    "\n",
    "for i in range(len(X)):\n",
    "    clear_output(wait=True)\n",
    "    display(i)\n",
    "    dist = distance(X[i,0],X[i,1], model)\n",
    "    if dist is None or dist < threshold:\n",
    "        y_hat.append(False)\n",
    "    else:\n",
    "        y_hat.append(True)\n",
    "\n",
    "end_time = time.time()\n",
    "\n",
    "print(f\"Total execution time: {end_time - start_time} seconds\")\n",
    "\n",
    "y_hat = np.array(y_hat)\n",
    "\n",
    "accuracy_score(y, y_hat)"
   ]
  }
 ],
 "metadata": {
  "kernelspec": {
   "display_name": "Python 3 (ipykernel)",
   "language": "python",
   "name": "python3"
  },
  "language_info": {
   "codemirror_mode": {
    "name": "ipython",
    "version": 3
   },
   "file_extension": ".py",
   "mimetype": "text/x-python",
   "name": "python",
   "nbconvert_exporter": "python",
   "pygments_lexer": "ipython3",
   "version": "3.9.12"
  }
 },
 "nbformat": 4,
 "nbformat_minor": 5
}
